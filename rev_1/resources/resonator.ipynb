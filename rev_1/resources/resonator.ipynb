{
 "cells": [
  {
   "cell_type": "markdown",
   "id": "3b4f8763-4ed3-418d-bce5-5de59b05c3e9",
   "metadata": {},
   "source": [
    "# Resonator Design"
   ]
  },
  {
   "cell_type": "markdown",
   "id": "78ded965-5abe-4e64-b73d-c0fad33a2047",
   "metadata": {},
   "source": [
    "### Quartz equivalent circuit\n",
    "<div>\n",
    "<img src=\"images/resonator_eq_circuit.png\" width=\"800\"/>\n",
    "</div>"
   ]
  },
  {
   "cell_type": "markdown",
   "id": "e5b4010f-3ac9-4b37-a5cf-a59e506d9016",
   "metadata": {},
   "source": [
    "There is a small region where the impedance of the quartz / resonator is such that it oscillates.\n",
    "<div>\n",
    "<img src=\"images/resonator_oscillation_impedance.png\" width=\"600\"/>\n",
    "</div>"
   ]
  },
  {
   "cell_type": "markdown",
   "id": "62659fbf-2a40-43e1-b3e9-e52bf4e1304e",
   "metadata": {},
   "source": [
    "By varying the impedance of the crystal we can change its oscillation frequency."
   ]
  },
  {
   "cell_type": "markdown",
   "id": "69412493-14c0-41f5-a95a-3b43a8a4f042",
   "metadata": {},
   "source": [
    "### Load Capacitance\n",
    "Determined by external capacitors and stray board capacitance. The oscillator must show the same load capacitance as the one the crystal was adjusted for.\n",
    "<div>\n",
    "<img src=\"images/resonator_load_capacitance.png\" width=\"200\"/>\n",
    "</div>"
   ]
  },
  {
   "cell_type": "markdown",
   "id": "ec1a688e-4e47-4b15-9228-e31d02b37b10",
   "metadata": {},
   "source": [
    "* $C_{L}$: Load capacitance required\n",
    "* $C_{L1/2}$: Externally applied capacitors\n",
    "* $C_{s}$: Stray board capacitance (PCB + MCU pin capacitance: assumed 10 pF according to stm32-datasheet)"
   ]
  },
  {
   "cell_type": "code",
   "execution_count": 1,
   "id": "4ec2333f-190d-4dcd-a291-14d34b7b1894",
   "metadata": {},
   "outputs": [
    {
     "name": "stdout",
     "output_type": "stream",
     "text": [
      "Load capacitances: Cl1 16.0pF, Cl2 16.0pF\n"
     ]
    }
   ],
   "source": [
    "import math\n",
    "### Example calculation: ABLS-8.000MHZ-20-B-3-H-T\n",
    "C_S = 10e-12 # PCB datasheet\n",
    "C_L = 18e-12 # Input load capacitance (resonator datasheet)\n",
    "# Assume C_L1 = C_L2\n",
    "C_L1 = (C_L - C_S)*2\n",
    "C_L2 = C_L1\n",
    "print(f\"Load capacitances: Cl1 {C_L1*1e12}pF, Cl2 {C_L2*1e12}pF\")"
   ]
  },
  {
   "cell_type": "markdown",
   "id": "daacd109-0361-4e17-817c-9d13a1cb800c",
   "metadata": {},
   "source": [
    "## Resonator compatibility"
   ]
  },
  {
   "cell_type": "markdown",
   "id": "f2f5674b-a05d-415b-bfe0-dfbdc086c21b",
   "metadata": {},
   "source": [
    "### PCB oscillator stability\n",
    "One should make sure that the PCB's oscillator driver is actually strong enough to driver the resonator into stable resonance:\n",
    "* The oscillation loop critical transconductance ($Gm_{crit\\_max}$) should be greater than the oscillation loop critical gain. ($Gm_{crit}$)\n",
    "* The gain margin ratio $ GM = \\frac{g_m}{Gm_{crit}}$ > 5, with $g_m$ the transconductance."
   ]
  },
  {
   "cell_type": "code",
   "execution_count": 6,
   "id": "ebf1c9b5-6d90-4a0e-a3f8-fc130ac47ecc",
   "metadata": {},
   "outputs": [
    {
     "name": "stdout",
     "output_type": "stream",
     "text": [
      "Gain margin: (19.7892936801441 > 5) ? | g_m_crit: 0.000505323745335775\n"
     ]
    }
   ],
   "source": [
    "import math\n",
    "### Example calculation: ABLS-8.000MHZ-20-B-3-H-T\n",
    "C_0 = 7e-12 # Shunt capacitance (resonator datasheet)\n",
    "C_L = 18e-12 # Input load capacitance (resonator datasheet)\n",
    "ESR = 80 # (resonator datasheet)\n",
    "F_OSCILLATOR = 8e6\n",
    "trancond = 10e-3 # in A / V, oscillator transconductance (check stm32 datasheet for it)\n",
    "# Assume C_L1 = C_L2\n",
    "g_m_crit = 4 * ESR * (2 * math.pi * F_OSCILLATOR) ** 2 * (C_0 + C_L) **2\n",
    "GM = trancond / g_m_crit\n",
    "print(f\"Gain margin: ({GM} > 5) ? | g_m_crit: {g_m_crit}\")"
   ]
  },
  {
   "cell_type": "markdown",
   "id": "71f3a008-7524-42a3-88b8-10a64f558347",
   "metadata": {},
   "source": [
    "### PCB oscillator safety\n",
    "\n",
    "One should make sure the PCB's oscillator driver doesn't break the resonator by driving it too hard. Therefor we should check\n",
    "* The drive level: $DL = I^{2}_{Crystal, RMS}*ESR = ESR * (\\pi * F * C_{tot})²*(V_{pp})² / 2$, which may not exceed the DL specified by the manufacturer.\n",
    "* The measurements however need to be done by hand, measuring the P2P voltage swing with a probe."
   ]
  },
  {
   "cell_type": "markdown",
   "id": "81327ee2-5361-4446-99a8-0a95c7e62b74",
   "metadata": {},
   "source": [
    "<div>\n",
    "<img src=\"images/resonator_DL.png\" width=\"600\"/>\n",
    "</div>"
   ]
  },
  {
   "cell_type": "code",
   "execution_count": null,
   "id": "590fec39-84ce-4a95-921a-ff1f19b0c8f1",
   "metadata": {},
   "outputs": [],
   "source": [
    "import math\n",
    "### Example calculation: ABLS-8.000MHZ-20-B-3-H-T\n",
    "ESR = 80 # resonator resistance\n",
    "F_OSCILLATOR = 8e6 \n",
    "C_PROBE = 0e-12\n",
    "C_S = 10e-12 # PCB datasheet\n",
    "C_TOT = C_L1 + (C_S/2) + C_PROBE\n",
    "V_PP =  0 # Is the peak2peak voltage level measured at the C_L1"
   ]
  },
  {
   "cell_type": "markdown",
   "id": "dc76a669-f853-439b-972e-dbfb4d57ccc5",
   "metadata": {},
   "source": [
    "To be sure we will simply check whether the drive level is good enough, and put a 0-ohm resistor in series."
   ]
  },
  {
   "cell_type": "markdown",
   "id": "9f51f6b2-0799-4b0d-a4fe-f154b4f1f739",
   "metadata": {},
   "source": [
    "**Sources:**\n",
    "> https://www.st.com/resource/en/datasheet/stm32f303cb.pdf \\\n",
    "> https://www.st.com/resource/en/application_note/an2867-guidelines-for-oscillator-design-on-stm8afals-and-stm32-mcusmpus-stmicroelectronics.pdf \\\n",
    "> https://wmsc.lcsc.com/wmsc/upload/file/pdf/v2/lcsc/2304140030_Abracon-LLC-ABLS-8-000MHZ-20-B-3-H-T_C1987070.pdf"
   ]
  },
  {
   "cell_type": "markdown",
   "id": "1a753791-2463-4500-a17d-5452d6fcf1f2",
   "metadata": {},
   "source": [
    "### Example calculation 1: 7325-0800A2010-00\n",
    "https://wmsc.lcsc.com/wmsc/upload/file/pdf/v2/lcsc/1912111437_XTY-7325-0800A2010-00_C389817.pdf"
   ]
  },
  {
   "cell_type": "code",
   "execution_count": 1,
   "id": "ba5bdbbb-55bc-4882-a9c9-5b2e59aa242c",
   "metadata": {},
   "outputs": [],
   "source": [
    "import math\n",
    "### Example calculation: ABLS-8.000MHZ-20-B-3-H-T\n",
    "C_S = 10e-12 # PCB datasheet\n",
    "C_L = 20e-12 # Input load capacitance (resonator datasheet)\n",
    "C_0 = 4e-12  # Shunt capacitance (resonator datasheet)\n",
    "ESR = 200    # (resonator datasheet)\n",
    "F_OSCILLATOR = 8e6\n",
    "trancond = 10e-3 # in A / V, oscillator transconductance (check stm32 datasheet for it)\n"
   ]
  },
  {
   "cell_type": "code",
   "execution_count": 2,
   "id": "36a861a7-6c79-438c-9cae-e7ebf75ead98",
   "metadata": {},
   "outputs": [
    {
     "name": "stdout",
     "output_type": "stream",
     "text": [
      "Load capacitances: Cl1 20.0pF, Cl2 20.0pF\n"
     ]
    }
   ],
   "source": [
    "# Assume C_L1 = C_L2\n",
    "C_L1 = (C_L - C_S)*2\n",
    "C_L2 = C_L1\n",
    "print(f\"Load capacitances: Cl1 {C_L1*1e12}pF, Cl2 {C_L2*1e12}pF\")"
   ]
  },
  {
   "cell_type": "code",
   "execution_count": 3,
   "id": "fcc480df-cc4e-4668-a763-eba221aa0310",
   "metadata": {},
   "outputs": [
    {
     "name": "stdout",
     "output_type": "stream",
     "text": [
      "Gain margin: (8.589103159784766 > 5) ? | g_m_crit: 0.0011642659092536256\n"
     ]
    }
   ],
   "source": [
    "import math\n",
    "# Assume C_L1 = C_L2\n",
    "g_m_crit = 4 * ESR * (2 * math.pi * F_OSCILLATOR) ** 2 * (C_0 + C_L) **2\n",
    "GM = trancond / g_m_crit\n",
    "print(f\"Gain margin: ({GM} > 5) ? | g_m_crit: {g_m_crit}\")"
   ]
  },
  {
   "cell_type": "code",
   "execution_count": null,
   "id": "9cbafec7-1bf7-41fa-b7d7-001df45c2edf",
   "metadata": {},
   "outputs": [],
   "source": []
  }
 ],
 "metadata": {
  "kernelspec": {
   "display_name": "Python 3 (ipykernel)",
   "language": "python",
   "name": "python3"
  },
  "language_info": {
   "codemirror_mode": {
    "name": "ipython",
    "version": 3
   },
   "file_extension": ".py",
   "mimetype": "text/x-python",
   "name": "python",
   "nbconvert_exporter": "python",
   "pygments_lexer": "ipython3",
   "version": "3.10.12"
  }
 },
 "nbformat": 4,
 "nbformat_minor": 5
}
