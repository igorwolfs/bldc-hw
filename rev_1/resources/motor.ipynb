{
 "cells": [
  {
   "cell_type": "markdown",
   "id": "eb7cdac2-0c51-4326-9cd4-44e546cdd04f",
   "metadata": {},
   "source": [
    "# Motor Requirements"
   ]
  },
  {
   "cell_type": "markdown",
   "id": "eb66c915-cf51-4e45-a974-1b4405b567ea",
   "metadata": {},
   "source": [
    "## Motor power rating"
   ]
  },
  {
   "cell_type": "markdown",
   "id": "555fe53b-8127-463e-8f1c-7e41d6bc8e6e",
   "metadata": {},
   "source": [
    "We assume here we are using this motor to power a flying drone. Using section (2.3) in source (1) introducing \n",
    "### Frames of reference\n",
    "* assumption of alignment of rotor axis with e3 axis of the quadrotor\n",
    "    * A: intertial frame on earth's surface\n",
    "    * B: body frame of quadrotor\n",
    "    * C: rotor reference frame\n",
    "    * D: spinning tip plane (shaped as cone, as a consequence of rotor translation during spinning = \"blade flapping\"), modelled by angle β, **assumed 0 here**\n",
    "* Assumption of constant propeller pitch"
   ]
  },
  {
   "cell_type": "markdown",
   "id": "f10ff1b4-34a4-4d85-981b-1ac7bf564692",
   "metadata": {},
   "source": [
    "<div>\n",
    "<img src=\"images/motor_rotor_FOR.png\" width=\"400\"/>\n",
    "</div>"
   ]
  },
  {
   "cell_type": "markdown",
   "id": "ccb6f2c7-7311-42ea-9cde-cb4cf61b2b71",
   "metadata": {},
   "source": [
    "### Momentum Theory (Froude)\n",
    "**Assumptions:**\n",
    "* Constant and equally distributed aerodynamic forces on the rotor.\n",
    "* The rotor disc is infinitely thin, the air passing through it is not subject to resistance.\n",
    "* Irrotational flow (no efficiency loss here).\n",
    "* The flow of air outside the control volume remains undisturbed by what happens inside the CV.\n",
    "\n",
    "These assumption are true granted $T/A$ = disc loading is large"
   ]
  },
  {
   "cell_type": "markdown",
   "id": "621370b4-45a7-4190-94f8-41cc9a254edb",
   "metadata": {},
   "source": [
    "### Momentum theory for z-axis (axial motion)"
   ]
  },
  {
   "cell_type": "markdown",
   "id": "47f7adc3-e1e5-40a9-88ae-c3ecb8f0ac12",
   "metadata": {},
   "source": [
    "Concepts used:\n",
    "* Conservation of momentum: $dm1/dt*v1 = dm2/dt*v2$)\n",
    "* Mass flow rate: $dm/dt = ρ*A*V^{a}$\n",
    "    * With $V_{average}$ being a vector with a e3-component only in our case\n",
    "    * $A = pi*R^{2}$\n",
    "* Thrust $P_{T} = T*V_{a}$ ($V_{a}$: local e3 velocity component on the disk)\n",
    "* Kinetic energy: $E = (1/2)m * v²$\n",
    "    * We use the derivative of the kinetic energy to time to check the kinetic power loss of the airstream inside the CV, since this will also be equal to the power used for thrust."
   ]
  },
  {
   "cell_type": "markdown",
   "id": "9761425b-de65-4ca4-8257-a7e024bd7028",
   "metadata": {},
   "source": [
    "<div>\n",
    "<img src=\"images/motor_flow_CV.png\" width=\"400\"/>\n",
    "</div>"
   ]
  },
  {
   "cell_type": "markdown",
   "id": "44bfd04e-90eb-482d-b3b5-1e01d4359fd4",
   "metadata": {},
   "source": [
    "### End formula at hovering\n",
    "At hovering, the power required for hovering is equal to: \n",
    "\n",
    "$P = T^{3/2} / \\sqrt{2*ρ*A}$\n",
    "* T: thrust required\n",
    "* rho: air density\n",
    "* A: propeller disc radius\n",
    "* P: power in airflow"
   ]
  },
  {
   "cell_type": "code",
   "execution_count": 12,
   "id": "436ded69-f109-4ac6-a3dd-81f96ddd515c",
   "metadata": {},
   "outputs": [],
   "source": [
    "n_motors = 4 # (Total number of motors per drone)\n",
    "m_drone = 2 # Total drone weight (kg)"
   ]
  },
  {
   "cell_type": "code",
   "execution_count": 13,
   "id": "e1e0c531-60b7-4eaf-afc2-7895aa814793",
   "metadata": {},
   "outputs": [],
   "source": [
    "import math\n",
    "### Thrust needed\n",
    "T = m_drone*9.81 / n_motors\n",
    "rho = 1.2250 # kg/m³\n",
    "r = 0.1 # Assume a propeller radius of about 10 cm \n",
    "A = math.pi*r**2"
   ]
  },
  {
   "cell_type": "code",
   "execution_count": 16,
   "id": "982b9570-a02b-4fbb-a5d6-31a053f349c5",
   "metadata": {},
   "outputs": [
    {
     "name": "stdout",
     "output_type": "stream",
     "text": [
      "Power for hovering: 39.1562000844539 Watt\n"
     ]
    }
   ],
   "source": [
    "### Power calculation\n",
    "P_hover = T**(3/2) / math.sqrt(2*rho*A)\n",
    "print(f\"Power for hovering: {P} Watt\")"
   ]
  },
  {
   "cell_type": "code",
   "execution_count": 18,
   "id": "18d30642-0abc-4c85-9dba-e7835aba7e05",
   "metadata": {},
   "outputs": [
    {
     "name": "stdout",
     "output_type": "stream",
     "text": [
      "Power given efficiency of 80.0 %: 48.945250105567375 Watt\n"
     ]
    }
   ],
   "source": [
    "### Motor efficiency\n",
    "eta = 0.8 # Typical minimum bldc motor efficiency\n",
    "P_hover_r = P_hover/eta\n",
    "print(f\"Power given efficiency of {eta*100} %: {P_hover_r} Watt\")"
   ]
  },
  {
   "cell_type": "markdown",
   "id": "26ca586c-3e1d-46b4-a909-fbe6a7425e95",
   "metadata": {},
   "source": [
    "We take K times that number to ensure drone movability"
   ]
  },
  {
   "cell_type": "code",
   "execution_count": 21,
   "id": "3c6a5a07-2b7b-47f1-b8ef-397a072bf82e",
   "metadata": {},
   "outputs": [
    {
     "name": "stdout",
     "output_type": "stream",
     "text": [
      "End min power 146.83575031670213 Watt\n"
     ]
    }
   ],
   "source": [
    "K = 3\n",
    "P_move_r = P_hover_r * K\n",
    "print(f\"End min power {P_move_r} Watt\")"
   ]
  },
  {
   "cell_type": "markdown",
   "id": "d8a19472-16bc-4347-8785-18c56bc3436d",
   "metadata": {},
   "source": [
    "**Source:**\n",
    "> (1) https://arxiv.org/pdf/1601.00733"
   ]
  },
  {
   "cell_type": "markdown",
   "id": "86c698a1-5560-4aa0-b268-ff0eb10bd582",
   "metadata": {},
   "source": [
    "## Example"
   ]
  },
  {
   "cell_type": "markdown",
   "id": "c47d622b-2120-4ca4-a9c7-53ef486bd1cd",
   "metadata": {},
   "source": [
    "### BR2826 Racerstar"
   ]
  },
  {
   "cell_type": "markdown",
   "id": "d57025e4-55ea-4268-ada1-7c817baa7ff1",
   "metadata": {},
   "source": [
    "* Load current: 13.8 A\n",
    "* Voltage: 11.1 V\n",
    "* KV: 1290 (unloaded RPM vs peak voltage) [RPM/V]"
   ]
  },
  {
   "cell_type": "code",
   "execution_count": 36,
   "id": "8d964284-c350-4533-99be-7f0c09b5c221",
   "metadata": {},
   "outputs": [],
   "source": [
    "### INPUTS\n",
    "V_MAX = 11.1\n",
    "I_MAX = 13.8\n",
    "KV = 1290 # in rounds per minute!\n",
    "n_poles = 4"
   ]
  },
  {
   "cell_type": "code",
   "execution_count": 37,
   "id": "47186e54-a076-439a-9faf-6383510501ff",
   "metadata": {},
   "outputs": [
    {
     "name": "stdout",
     "output_type": "stream",
     "text": [
      "Switching frequency: 357.975 Hz should be the minimal switching frequency of the driving signal\n"
     ]
    }
   ],
   "source": [
    "### Calculate the unloaded rounds per second at max load voltage\n",
    "rps_mech = KV*V_MAX / 60\n",
    "### The electric speed of a bldc is the mechanical speed multiplied by the number of pole pairs\n",
    "rps_el = rps_mech / n_poles\n",
    "### The switching cycle contains steps, so the driving frequency is the electric one * 6\n",
    "rps_req = rps_el * 6\n",
    "print(f\"Switching frequency: {rps_req} Hz should be the minimal switching frequency of the driving signal\")"
   ]
  },
  {
   "cell_type": "markdown",
   "id": "072319e9-29d2-4517-844a-66f13b9da89d",
   "metadata": {},
   "source": [
    "**Source:**\n",
    "> https://www.racerstar.com/Racerstar-BR2826-1290KV-2-4S-Brushless-Motor-For-RC-Models-p-97.html"
   ]
  },
  {
   "cell_type": "markdown",
   "id": "9ab04de1-b651-4b6f-b028-8e2092240c10",
   "metadata": {},
   "source": [
    "# Motor Modelling"
   ]
  },
  {
   "cell_type": "markdown",
   "id": "e13c8a7c-4aa4-4137-ae98-17ae56a59def",
   "metadata": {},
   "source": [
    "## Electrical\n",
    "<div>\n",
    "<img src=\"images/motor_bldc_windings.png\" width=\"600\"/>\n",
    "</div>\n",
    "\n",
    "* Ls: self-inductance of the phase winding\n",
    "* M: mutual inductance\n",
    "* Vu, Vv, Vw: phase voltage referred to virtual ground\n",
    "* ea, eb, ec: back-emf as a consequence of resistance against magnetic field change due to movement\n",
    "* ia, ib, ic: phase currents, assume ia+ib+ic = 0\n",
    "<div>\n",
    "<img src=\"images/motor_emf_equations.png\" width=\"600\"/>\n",
    "</div>"
   ]
  },
  {
   "cell_type": "markdown",
   "id": "57c5a50f-9479-48f1-9b4a-78db4bc57f2a",
   "metadata": {},
   "source": [
    "### Trapezoidal EMF\n",
    "The EMF is assumed ot be trapezoidal due to bldc construction. \\\n",
    "$e_{a} = \\omega_{m} * \\lambda_{m} * f_{as}(\\theta_{r})$ \\\n",
    "$e_{b} = \\omega_{m} * \\lambda_{m} * f_{bs}(\\theta_{r})$ \\\n",
    "$e_{c} = \\omega_{m} * \\lambda_{m} * f_{cs}(\\theta_{r})$ \n",
    "\n",
    "* $\\omega_{m}$: angular rotor speed in radians per second\n",
    "* $\\lambda_{m}$: flux linkage\n",
    "* $\\theta_{r}$: mechanical rotor position in radians\n",
    "* functions $f_{is}$ are normalized trapezoidal functions (max(|f| = 1)"
   ]
  },
  {
   "cell_type": "markdown",
   "id": "d37d9de6-e044-4627-9799-8abaca0e4e63",
   "metadata": {},
   "source": [
    "### Torque\n",
    "Equalling the electromagnetic power and the resulting electromagnetic torque gives us: \\\n",
    "=> $P_{e}=e_{a}*i_{a}+e_{b}*i_{b}+e_{c}*i_{c}$ \\\n",
    "=> $P_{m} = T_{e} * \\omega_{m}$ \\\n",
    "<=> $T_{e} = [e_{a}*i_{a}+e_{b}*i_{b}+e_{c}*i_{c}] / \\omega_{m}$ \n",
    "\n",
    "\n",
    "The moment of inertia as well as the torques resulting from them can be divided into \n",
    "* load inertia $J_{L}, T_{L}$\n",
    "* machine inertia $J_{M}, T_{M}$."
   ]
  },
  {
   "cell_type": "markdown",
   "id": "864e97a7-6e60-41a1-b420-d183dfe56dd4",
   "metadata": {},
   "source": [
    "### Newton\n",
    "Given inertia J, friction coefficient B, the mechanical system can be described by ($\\alpha = d\\omega/dt$):\n",
    "\n",
    "$J*\\alpha_{m} + B*\\omega_{m} = (T_{e} - T_{L})$"
   ]
  },
  {
   "cell_type": "markdown",
   "id": "11f36d60-71cf-485f-9bd4-347b32237597",
   "metadata": {},
   "source": [
    "### Electrical vs Mechanical speed\n",
    "The electrical speed is equal to the mechanical speed times the amount of pole pairs (poles / 2), since every electrical period needs to be repeated p/2 number of times for 1 single mechanical revolution (2*$\\pi$)\n",
    "\n",
    "$\\frac{d\\theta_{r}}{dt} = \\frac{P}{2}*\\omega_{m}$"
   ]
  },
  {
   "cell_type": "markdown",
   "id": "79163665-ca7f-4083-8bfd-bc288379b73f",
   "metadata": {},
   "source": [
    "## 5 Final equations"
   ]
  },
  {
   "cell_type": "markdown",
   "id": "13db87bf-cb5f-41e6-b588-7383ea5d1ec1",
   "metadata": {},
   "source": [
    "### currents\n",
    "$\\frac{di_{a}}{dt} = - [\\frac{R_{s}}{L-M}] * i_{a} - [(\\frac{\\lambda_m}{J}) * f_{as}(\\theta_{r})] * \\omega_{m} + [\\frac{1}{L-M}]*V_{as} - [\\frac{1}{L-M}]*e_{a}$ \\\n",
    "$\\frac{di_{b}}{dt} = - [\\frac{R_{s}}{L-M}] * i_{b} - [(\\frac{\\lambda_m}{J}) * f_{bs}(\\theta_{r})] * \\omega_{m} + [\\frac{1}{L-M}]*V_{bs} - [\\frac{1}{L-M}]*e_{b}$ \\\n",
    "$\\frac{di_{c}}{dt} = - [\\frac{R_{s}}{L-M}] * i_{c} - [(\\frac{\\lambda_m}{J}) * f_{cs}(\\theta_{r})] * \\omega_{m} + [\\frac{1}{L-M}]*V_{cs} - [\\frac{1}{L-M}]*e_{c}$"
   ]
  },
  {
   "cell_type": "code",
   "execution_count": null,
   "id": "41c1c7f5",
   "metadata": {},
   "outputs": [],
   "source": []
  },
  {
   "cell_type": "markdown",
   "id": "7ae6582b-8108-42f8-abf0-a12be29d738b",
   "metadata": {},
   "source": [
    "### Mechanical speed\n",
    "\n",
    "$\\frac{d\\omega_{m}}{dt} = [(\\frac{\\lambda_m}{J}) * f_{as}(\\theta_{r})] * i_{a} + [(\\frac{\\lambda_m}{J}) * f_{bs}(\\theta_{r})] * i_{b}  + [(\\frac{\\lambda_m}{J}) * f_{cs}(\\theta_{r})] * i_{c} - [\\frac{B}{J}] * \\omega_{m}$"
   ]
  },
  {
   "cell_type": "markdown",
   "id": "b0a61948-7b53-4158-8b96-bf04e7b0c570",
   "metadata": {},
   "source": [
    "### Electrical angle\n",
    "$\\frac{d\\theta_{r}}{dt} = \\frac{P}{2}*\\omega_{m}$"
   ]
  },
  {
   "cell_type": "code",
   "execution_count": null,
   "id": "bef15af9-737d-4e55-afb6-54779a4ebdf2",
   "metadata": {},
   "outputs": [],
   "source": []
  },
  {
   "cell_type": "markdown",
   "id": "2fe754ee-69e6-4ce8-9b42-461f98b72f16",
   "metadata": {},
   "source": [
    "**Sources:**\n",
    "> https://core.ac.uk/download/pdf/53188902.pdf"
   ]
  },
  {
   "cell_type": "code",
   "execution_count": null,
   "id": "2aca1d31-eedd-4200-b4a1-488a8a87ff4d",
   "metadata": {},
   "outputs": [],
   "source": []
  }
 ],
 "metadata": {
  "kernelspec": {
   "display_name": "Python 3 (ipykernel)",
   "language": "python",
   "name": "python3"
  },
  "language_info": {
   "codemirror_mode": {
    "name": "ipython",
    "version": 3
   },
   "file_extension": ".py",
   "mimetype": "text/x-python",
   "name": "python",
   "nbconvert_exporter": "python",
   "pygments_lexer": "ipython3",
   "version": "3.10.12"
  }
 },
 "nbformat": 4,
 "nbformat_minor": 5
}
